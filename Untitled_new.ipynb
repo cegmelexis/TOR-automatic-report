{
 "cells": [
  {
   "cell_type": "markdown",
   "metadata": {},
   "source": [
    "# MLX90632 TOR  REPORT"
   ]
  },
  {
   "cell_type": "markdown",
   "metadata": {},
   "source": [
    "General template info\n",
    "Authors: CEG\n",
    "\n",
    "Release: A, May ,2020\n",
    "\n",
    "Template purpose\n",
    "This file performs the postcalculation of the TOR data .  It shows the device parameter informatiron vs specifications and lists a go or not go statement according to the agreed quality norms. \n",
    "\n",
    "Revisions will be updated in the heading."
   ]
  },
  {
   "cell_type": "code",
   "execution_count": 1,
   "metadata": {},
   "outputs": [],
   "source": [
    "#CEG:  General import statements\n",
    "%reset -f\n",
    "\n",
    "import warnings\n",
    "warnings.simplefilter('ignore')\n",
    "import numpy as np\n",
    "import pandas as pd\n",
    "%matplotlib inline\n",
    "from matplotlib import pyplot\n",
    "from matplotlib import cm\n",
    "from matplotlib.offsetbox import AnchoredText\n",
    "import seaborn as sns # set plot style\n",
    "import probscale\n",
    "import datetime\n",
    "import time\n",
    "import plotly.express as px\n",
    "\n",
    "clear_bkgd = {'axes.facecolor':'none', 'figure.facecolor':'none'}\n",
    "sns.set(style='ticks', context='talk', color_codes=True, rc=clear_bkgd)\n"
   ]
  },
  {
   "cell_type": "code",
   "execution_count": 2,
   "metadata": {
    "scrolled": true
   },
   "outputs": [
    {
     "data": {
      "text/html": [
       "<div>\n",
       "<style scoped>\n",
       "    .dataframe tbody tr th:only-of-type {\n",
       "        vertical-align: middle;\n",
       "    }\n",
       "\n",
       "    .dataframe tbody tr th {\n",
       "        vertical-align: top;\n",
       "    }\n",
       "\n",
       "    .dataframe thead th {\n",
       "        text-align: right;\n",
       "    }\n",
       "</style>\n",
       "<table border=\"1\" class=\"dataframe\">\n",
       "  <thead>\n",
       "    <tr style=\"text-align: right;\">\n",
       "      <th></th>\n",
       "      <th>station</th>\n",
       "      <th>inspection</th>\n",
       "      <th>recipe</th>\n",
       "      <th>lot</th>\n",
       "      <th>partid</th>\n",
       "      <th>key</th>\n",
       "      <th>value</th>\n",
       "      <th>result</th>\n",
       "      <th>unit</th>\n",
       "      <th>date_created</th>\n",
       "      <th>...</th>\n",
       "      <th>maxtolerance</th>\n",
       "      <th>toleranceusage</th>\n",
       "      <th>item</th>\n",
       "      <th>recipeid</th>\n",
       "      <th>pad_partid</th>\n",
       "      <th>pad_item</th>\n",
       "      <th>measurand_group_name</th>\n",
       "      <th>station_unique_id</th>\n",
       "      <th>inspectionstep</th>\n",
       "      <th>basicitemkey</th>\n",
       "    </tr>\n",
       "  </thead>\n",
       "  <tbody>\n",
       "    <tr>\n",
       "      <th>0</th>\n",
       "      <td>Station1 Top</td>\n",
       "      <td>Orientation</td>\n",
       "      <td>SFN 3X3 5L</td>\n",
       "      <td>1TD15569X1X1X2X1</td>\n",
       "      <td>0</td>\n",
       "      <td>MatchScore</td>\n",
       "      <td>89.84</td>\n",
       "      <td>Pass</td>\n",
       "      <td>Percent</td>\n",
       "      <td>2020-07-09 22:10:11</td>\n",
       "      <td>...</td>\n",
       "      <td>100.0</td>\n",
       "      <td>Low</td>\n",
       "      <td>Pattern 0°Pattern</td>\n",
       "      <td>NaN</td>\n",
       "      <td>NaN</td>\n",
       "      <td>NaN</td>\n",
       "      <td>MatchScore</td>\n",
       "      <td>e7ad9030-034e-43e1-be7d-2d35404aecee</td>\n",
       "      <td>Orientation</td>\n",
       "      <td>Pattern</td>\n",
       "    </tr>\n",
       "    <tr>\n",
       "      <th>1</th>\n",
       "      <td>Station1 Top</td>\n",
       "      <td>Orientation</td>\n",
       "      <td>SFN 3X3 5L</td>\n",
       "      <td>1TD15569X1X1X2X1</td>\n",
       "      <td>Live</td>\n",
       "      <td>MatchScore</td>\n",
       "      <td>89.84</td>\n",
       "      <td>Pass</td>\n",
       "      <td>Percent</td>\n",
       "      <td>2020-07-09 22:10:39</td>\n",
       "      <td>...</td>\n",
       "      <td>100.0</td>\n",
       "      <td>Low</td>\n",
       "      <td>Pattern 0°Pattern</td>\n",
       "      <td>NaN</td>\n",
       "      <td>NaN</td>\n",
       "      <td>NaN</td>\n",
       "      <td>MatchScore</td>\n",
       "      <td>e7ad9030-034e-43e1-be7d-2d35404aecee</td>\n",
       "      <td>Orientation</td>\n",
       "      <td>Pattern</td>\n",
       "    </tr>\n",
       "    <tr>\n",
       "      <th>2</th>\n",
       "      <td>Station1 Top</td>\n",
       "      <td>Orientation</td>\n",
       "      <td>SFN 3X3 5L</td>\n",
       "      <td>1TD15569X1X1X2X1</td>\n",
       "      <td>Live</td>\n",
       "      <td>MatchScore</td>\n",
       "      <td>89.84</td>\n",
       "      <td>Pass</td>\n",
       "      <td>Percent</td>\n",
       "      <td>2020-07-09 22:10:40</td>\n",
       "      <td>...</td>\n",
       "      <td>100.0</td>\n",
       "      <td>Low</td>\n",
       "      <td>Pattern 0°Pattern</td>\n",
       "      <td>NaN</td>\n",
       "      <td>NaN</td>\n",
       "      <td>NaN</td>\n",
       "      <td>MatchScore</td>\n",
       "      <td>e7ad9030-034e-43e1-be7d-2d35404aecee</td>\n",
       "      <td>Orientation</td>\n",
       "      <td>Pattern</td>\n",
       "    </tr>\n",
       "  </tbody>\n",
       "</table>\n",
       "<p>3 rows × 23 columns</p>\n",
       "</div>"
      ],
      "text/plain": [
       "        station   inspection      recipe               lot partid         key  \\\n",
       "0  Station1 Top  Orientation  SFN 3X3 5L  1TD15569X1X1X2X1      0  MatchScore   \n",
       "1  Station1 Top  Orientation  SFN 3X3 5L  1TD15569X1X1X2X1   Live  MatchScore   \n",
       "2  Station1 Top  Orientation  SFN 3X3 5L  1TD15569X1X1X2X1   Live  MatchScore   \n",
       "\n",
       "   value result     unit         date_created  ...  maxtolerance  \\\n",
       "0  89.84   Pass  Percent  2020-07-09 22:10:11  ...         100.0   \n",
       "1  89.84   Pass  Percent  2020-07-09 22:10:39  ...         100.0   \n",
       "2  89.84   Pass  Percent  2020-07-09 22:10:40  ...         100.0   \n",
       "\n",
       "  toleranceusage               item  recipeid pad_partid pad_item  \\\n",
       "0            Low  Pattern 0°Pattern       NaN        NaN      NaN   \n",
       "1            Low  Pattern 0°Pattern       NaN        NaN      NaN   \n",
       "2            Low  Pattern 0°Pattern       NaN        NaN      NaN   \n",
       "\n",
       "   measurand_group_name                     station_unique_id  inspectionstep  \\\n",
       "0            MatchScore  e7ad9030-034e-43e1-be7d-2d35404aecee     Orientation   \n",
       "1            MatchScore  e7ad9030-034e-43e1-be7d-2d35404aecee     Orientation   \n",
       "2            MatchScore  e7ad9030-034e-43e1-be7d-2d35404aecee     Orientation   \n",
       "\n",
       "  basicitemkey  \n",
       "0      Pattern  \n",
       "1      Pattern  \n",
       "2      Pattern  \n",
       "\n",
       "[3 rows x 23 columns]"
      ]
     },
     "execution_count": 2,
     "metadata": {},
     "output_type": "execute_result"
    }
   ],
   "source": [
    "#inputdata = pd.read_csv('tordata', sep=',', na_values=['', \"?\"])\n",
    "\n",
    "datafile='1TD15569X1X1X2X1_Station1 Top_dm.csv'#inputdata['Datafile'].values[0]\n",
    "datafile1='lenses_v1_Station2 5S_dm.csv'#inputdata['Datafile'].values[0]\n",
    "#data_cols = ['station', 'inspection', 'recipe', 'lot', 'partid', 'key', 'value', 'result', 'unit', 'date_created', 'position', 'scanid', 'mintolerance', 'maxtolerance', 'toleranceusage', 'item', 'recipeid','pad_partid','pad_item','measurand_group_name', 'station_unique_id','inspectionstep','basicitemkey']\n",
    "\n",
    "#CEG:  TOR Data\n",
    "topdata = pd.read_csv(datafile, sep=',', na_values=['', \"?\"],  )\n",
    "sdata = pd.read_csv(datafile1, sep=',', na_values=['', \"?\"],  )\n",
    "topdata.head(3)"
   ]
  },
  {
   "cell_type": "markdown",
   "metadata": {},
   "source": [
    "# Lot information"
   ]
  },
  {
   "cell_type": "code",
   "execution_count": 3,
   "metadata": {},
   "outputs": [],
   "source": [
    "outliers = []\n",
    "def detect_outliers(data):\n",
    "    \n",
    "    treshhold=8\n",
    "    mean=np.mean(data)\n",
    "    std=np.std(data)\n",
    "    for i in data:\n",
    "        z_score=(i - mean)/std\n",
    "        if np.abs(z_score)<treshhold:\n",
    "            outliers.append(i)\n",
    "    return outliers"
   ]
  },
  {
   "cell_type": "markdown",
   "metadata": {},
   "source": [
    "   #                                                Top inspection"
   ]
  },
  {
   "cell_type": "code",
   "execution_count": 4,
   "metadata": {
    "scrolled": false
   },
   "outputs": [
    {
     "name": "stdout",
     "output_type": "stream",
     "text": [
      "Report for lot 1TD15569X1X1X2X1\n",
      "Data generated : 2020-07-20, 09:42:06\n",
      "Data runned : 2020-07-09 22:10:39\n",
      "Inspected parts = 7917\n",
      "Fails = 545\n",
      "Top inspection yeld = 87.11\n"
     ]
    }
   ],
   "source": [
    "\n",
    "    #Yield statistic\n",
    "\n",
    "now = datetime.datetime.today().strftime('%Y-%m-%d')\n",
    "when=time.strftime('%H:%M:%S')\n",
    "\n",
    "insp_parts= topdata.partid.nunique()\n",
    "topdata[(topdata[\"result\"] != 'Pass')]\n",
    "failed=topdata[(topdata[\"result\"] != 'Pass')].partid.nunique()\n",
    "\n",
    "print('Report for lot ' + topdata.lot[1] )\n",
    "print('Data generated : '+ now +', '+ when)\n",
    "print('Data runned : ' + str (topdata.date_created[1]))\n",
    "\n",
    "\n",
    "print('Inspected parts = ' +  str(insp_parts ) )\n",
    "print('Fails = ' +  str(failed ) )\n",
    "\n",
    "yieldstat= ((insp_parts-failed)/ (insp_parts+failed))*100\n",
    "print('Top inspection yeld = '  + str(yieldstat)[0:5])\n",
    "\n",
    "\n",
    "\n",
    "\n",
    "\n",
    "\n",
    "\n",
    "        \n",
    "   "
   ]
  },
  {
   "cell_type": "code",
   "execution_count": 5,
   "metadata": {},
   "outputs": [],
   "source": [
    "#failed=topdata[(topdata[\"result\"] != 'Pass')]\n",
    "#fig=pyplot.bar(topdata.measurand_group_name,height=400)#topdata.position)\n",
    "# pyplot.show()"
   ]
  },
  {
   "cell_type": "code",
   "execution_count": null,
   "metadata": {},
   "outputs": [],
   "source": []
  },
  {
   "cell_type": "markdown",
   "metadata": {},
   "source": [
    "Lens diameter\n",
    "![](img/lens_diameter.png)"
   ]
  },
  {
   "cell_type": "code",
   "execution_count": 6,
   "metadata": {
    "scrolled": false
   },
   "outputs": [
    {
     "name": "stdout",
     "output_type": "stream",
     "text": [
      "count    34712.000000\n",
      "mean       350.881986\n",
      "std          7.692607\n",
      "min        115.600000\n",
      "25%        347.300000\n",
      "50%        351.100000\n",
      "75%        355.300000\n",
      "max        394.000000\n",
      "Name: value, dtype: float64\n"
     ]
    },
    {
     "data": {
      "image/png": "[encoded data removed]",
      "text/plain": [
       "<Figure size 432x288 with 1 Axes>"
      ]
     },
     "metadata": {
      "needs_background": "light"
     },
     "output_type": "display_data"
    }
   ],
   "source": [
    "#Lens Diameter\n",
    "\n",
    "topdata[(topdata[\"measurand_group_name\"] == 'Lens Diameter')]\n",
    "print(topdata[(topdata[\"measurand_group_name\"] == 'Lens Diameter')].value.describe())\n",
    "\n",
    "#topdata[(topdata['key'] == 'Diameter')].value\n",
    "#detect_outliers(topdata.value)\n",
    "#topdata[(topdata['key'] == 'Diameter')].value\n",
    "bins= [330,340,345,350,355,360, 365,370,380 ]\n",
    "#pyplot.hist(tordata[(tordata['key'] == 'Diameter')].value, bins=bins, edgecolor='black' )\n",
    "pyplot.hist(detect_outliers(topdata[(topdata['key'] == 'Diameter')].value), bins=10, edgecolor='black' )\n",
    "pyplot.title('Lens diameter')\n",
    "pyplot.ylabel('Histogram')\n",
    "pyplot.xlabel('Diameter [Microns]');\n",
    "pyplot.axvline(x=340,color='red')\n",
    "pyplot.axvline(x=380,color='red')\n",
    "pyplot.axvline(x=(np.mean((topdata[(topdata['key'] == 'Diameter')].value))),color='gray')\n",
    "pyplot.xlim(330, 390);\n",
    "pyplot.show()\n"
   ]
  },
  {
   "cell_type": "markdown",
   "metadata": {},
   "source": [
    "Lens shift\n",
    "![](img/lens_shift.png)"
   ]
  },
  {
   "cell_type": "code",
   "execution_count": 7,
   "metadata": {},
   "outputs": [
    {
     "name": "stdout",
     "output_type": "stream",
     "text": [
      "count    0.0\n",
      "mean     NaN\n",
      "std      NaN\n",
      "min      NaN\n",
      "25%      NaN\n",
      "50%      NaN\n",
      "75%      NaN\n",
      "max      NaN\n",
      "Name: value, dtype: float64\n"
     ]
    },
    {
     "data": {
      "image/png": "[encoded data removed]",
      "text/plain": [
       "<Figure size 432x288 with 1 Axes>"
      ]
     },
     "metadata": {
      "needs_background": "light"
     },
     "output_type": "display_data"
    }
   ],
   "source": [
    "\n",
    "topdata[(topdata[\"measurand_group_name\"] == 'Lens Shift X')]\n",
    "print(topdata[(topdata[\"measurand_group_name\"] == 'Lens Shift X')].value.describe())\n",
    "\n",
    "mean=np.mean((topdata[(topdata['key'] == 'ShiftX')].value))\n",
    "\n",
    "topdata[(topdata['key'] == 'ShiftX')].value\n",
    "pyplot.hist((topdata[(topdata['key'] == 'ShiftX')].value), bins=15, edgecolor='black',  )\n",
    "pyplot.title('Shift X')\n",
    "pyplot.ylabel('Histogram')\n",
    "pyplot.xlabel('Shift from package model [Microns]');\n",
    "pyplot.axvline(x=-75,color='red')\n",
    "pyplot.axvline(x=75,color='red')\n",
    "pyplot.axvline(x=(np.mean((topdata[(topdata['key'] == 'ShiftX')].value))),color='gray')\n",
    "pyplot.xlim(-100, 100);\n",
    "pyplot.show()"
   ]
  },
  {
   "cell_type": "code",
   "execution_count": 8,
   "metadata": {},
   "outputs": [
    {
     "name": "stdout",
     "output_type": "stream",
     "text": [
      "count    0.0\n",
      "mean     NaN\n",
      "std      NaN\n",
      "min      NaN\n",
      "25%      NaN\n",
      "50%      NaN\n",
      "75%      NaN\n",
      "max      NaN\n",
      "Name: value, dtype: float64\n"
     ]
    },
    {
     "data": {
      "image/png": "[encoded data removed]",
      "text/plain": [
       "<Figure size 432x288 with 1 Axes>"
      ]
     },
     "metadata": {
      "needs_background": "light"
     },
     "output_type": "display_data"
    }
   ],
   "source": [
    "\n",
    "topdata[(topdata[\"measurand_group_name\"] == 'Lens Shift Y')]\n",
    "print(topdata[(topdata[\"measurand_group_name\"] == 'Lens Shift Y')].value.describe())\n",
    "\n",
    "detect_outliers(topdata[(topdata['key'] == 'ShiftY')].value)\n",
    "\n",
    "#topdata[(topdata['key'] == 'ShiftY')].value\n",
    "pyplot.hist((topdata[(topdata['key'] == 'ShiftY')].value), bins=15, edgecolor='black' )\n",
    "pyplot.title('Shift Y')\n",
    "pyplot.ylabel('Histogram')\n",
    "pyplot.xlabel('Shift from package model [Microns]');\n",
    "pyplot.axvline(x=-75,color='red')\n",
    "pyplot.axvline(x=75,color='red')\n",
    "pyplot.axvline(x=(np.mean(topdata[(topdata['key'] == 'ShiftY')].value)),color='gray')\n",
    "pyplot.xlim(-100, 100);\n",
    "\n",
    "pyplot.show()"
   ]
  },
  {
   "cell_type": "markdown",
   "metadata": {},
   "source": [
    "Lens shift and window shift in absolute values \n",
    "![](img/lens_shift_absolute.png)"
   ]
  },
  {
   "cell_type": "code",
   "execution_count": 9,
   "metadata": {},
   "outputs": [
    {
     "data": {
      "image/png": "[encoded data removed]",
      "text/plain": [
       "<Figure size 432x288 with 1 Axes>"
      ]
     },
     "metadata": {
      "needs_background": "light"
     },
     "output_type": "display_data"
    }
   ],
   "source": [
    "\n",
    "topdata[(topdata[\"measurand_group_name\"] == 'Lens Shift X') & (topdata[\"item\"] == 'Contact Ball A1')  ]\n",
    "shift= ((topdata[(topdata['key'] == 'ShiftX')].value))\n",
    "#shiftvalue=1.452.value\n",
    "#shiftt=(pd.series(shift))\n",
    "#shiftx=shiftt.assign(shiftvalue=shiftvalue.value)\n",
    "#print(topdata[(topdata[\"measurand_group_name\"] == 'Lens Shift X') & (topdata[\"item\"] == 'Contact Ball A1')  ].value.describe())\n",
    "\n",
    "mean=np.mean((topdata[(topdata['key'] == 'ShiftX')].value))\n",
    "\n",
    "\n",
    "pyplot.hist((shift), bins=15, edgecolor='black',  )\n",
    "pyplot.title('Shift X')\n",
    "pyplot.ylabel('Histogram')\n",
    "pyplot.xlabel('Shift from package model [Microns]');\n",
    "pyplot.axvline(x=-75,color='red')\n",
    "pyplot.axvline(x=75,color='red')\n",
    "pyplot.axvline(x=(np.mean((topdata[(topdata['key'] == 'ShiftX')].value))),color='gray')\n",
    "pyplot.xlim(-100, 100);\n",
    "pyplot.show()"
   ]
  },
  {
   "cell_type": "code",
   "execution_count": null,
   "metadata": {},
   "outputs": [],
   "source": []
  },
  {
   "cell_type": "code",
   "execution_count": null,
   "metadata": {},
   "outputs": [],
   "source": []
  },
  {
   "cell_type": "markdown",
   "metadata": {},
   "source": [
    "Window dimentions\n",
    "![](img/window.png)"
   ]
  },
  {
   "cell_type": "code",
   "execution_count": 10,
   "metadata": {},
   "outputs": [
    {
     "name": "stdout",
     "output_type": "stream",
     "text": [
      "count    0.0\n",
      "mean     NaN\n",
      "std      NaN\n",
      "min      NaN\n",
      "25%      NaN\n",
      "50%      NaN\n",
      "75%      NaN\n",
      "max      NaN\n",
      "Name: value, dtype: float64\n"
     ]
    },
    {
     "data": {
      "image/png": "[encoded data removed]",
      "text/plain": [
       "<Figure size 432x288 with 1 Axes>"
      ]
     },
     "metadata": {
      "needs_background": "light"
     },
     "output_type": "display_data"
    }
   ],
   "source": [
    "\n",
    "topdata[(topdata[\"measurand_group_name\"] == 'Window Length') ]\n",
    "print(topdata[(topdata[\"measurand_group_name\"] == 'Window Length')].value.describe())\n",
    "\n",
    "detect_outliers(topdata[(topdata['key'] == 'Width')&  (topdata[\"item\"] == 'HeatSink HS1') ].value)\n",
    "\n",
    "#topdata[(topdata['key'] == 'ShiftY')].value\n",
    "pyplot.hist((topdata[(topdata['key'] == 'Width')&  (topdata[\"item\"] == 'HeatSink HS1') ].value), bins=15, edgecolor='black' )\n",
    "pyplot.title('Width')\n",
    "pyplot.ylabel('Histogram')\n",
    "pyplot.xlabel('Window width [Microns]');\n",
    "pyplot.axvline(x=1810,color='red')\n",
    "pyplot.axvline(x=2210,color='red')\n",
    "pyplot.axvline(x=(np.mean(topdata[(topdata['key'] == 'Width')&  (topdata[\"item\"] == 'HeatSink HS1') ].value)),color='gray')\n",
    "pyplot.xlim(1700, 2300);\n",
    "\n",
    "pyplot.show()"
   ]
  },
  {
   "cell_type": "code",
   "execution_count": 11,
   "metadata": {},
   "outputs": [
    {
     "name": "stdout",
     "output_type": "stream",
     "text": [
      "count    8998.000000\n",
      "mean     1331.709035\n",
      "std        38.548352\n",
      "min      1141.100000\n",
      "25%      1304.800000\n",
      "50%      1329.500000\n",
      "75%      1363.300000\n",
      "max      1424.500000\n",
      "Name: value, dtype: float64\n"
     ]
    },
    {
     "data": {
      "image/png": "[encoded data removed]",
      "text/plain": [
       "<Figure size 432x288 with 1 Axes>"
      ]
     },
     "metadata": {
      "needs_background": "light"
     },
     "output_type": "display_data"
    }
   ],
   "source": [
    "\n",
    "topdata[(topdata['inspection'] == 'LensesLocate')   &  (topdata[\"item\"] == 'HeatSink HS1') ]\n",
    "print(topdata[(topdata['key'] == 'Length')&  (topdata[\"item\"] == 'HeatSink HS1') ].value.describe())\n",
    "\n",
    "detect_outliers(topdata[(topdata['key'] == 'Length')&  (topdata[\"item\"] == 'HeatSink HS1') ].value)\n",
    "\n",
    "#topdata[(topdata['key'] == 'ShiftY')].value\n",
    "pyplot.hist((topdata[(topdata['key'] == 'Length')&  (topdata[\"item\"] == 'HeatSink HS1') ].value), bins=15, edgecolor='black' )\n",
    "pyplot.title('Length')\n",
    "pyplot.ylabel('Histogram')\n",
    "pyplot.xlabel('Length length [Microns]');\n",
    "pyplot.axvline(x=1300,color='red')\n",
    "pyplot.axvline(x=1500,color='red')\n",
    "pyplot.axvline(x=(np.mean(topdata[(topdata['key'] == 'Length')&  (topdata[\"item\"] == 'HeatSink HS1') ].value)),color='gray')\n",
    "pyplot.xlim(1200, 1600);\n",
    "\n",
    "pyplot.show()"
   ]
  },
  {
   "cell_type": "markdown",
   "metadata": {},
   "source": [
    "# Package dimentions\n"
   ]
  },
  {
   "cell_type": "markdown",
   "metadata": {},
   "source": [
    "\n",
    "![](img/package_dimentions.png)"
   ]
  },
  {
   "cell_type": "code",
   "execution_count": 12,
   "metadata": {},
   "outputs": [
    {
     "name": "stdout",
     "output_type": "stream",
     "text": [
      "count    8707.000000\n",
      "mean     2987.639669\n",
      "std        10.836941\n",
      "min      2746.200000\n",
      "25%      2985.400000\n",
      "50%      2988.700000\n",
      "75%      2991.400000\n",
      "max      3008.300000\n",
      "Name: value, dtype: float64\n"
     ]
    },
    {
     "data": {
      "image/png": "[encoded data removed]",
      "text/plain": [
       "<Figure size 432x288 with 1 Axes>"
      ]
     },
     "metadata": {
      "needs_background": "light"
     },
     "output_type": "display_data"
    }
   ],
   "source": [
    "\n",
    "topdata[(topdata['inspection'] == 'PackageLocate')   &  (topdata[\"item\"] == 'Package Package') ]\n",
    "print(topdata[(topdata['key'] == 'Width')&  (topdata[\"item\"] == 'Package Package') ].value.describe())\n",
    "\n",
    "detect_outliers(topdata[(topdata['key'] == 'Width')&  (topdata[\"item\"] == 'Package Package') ].value)\n",
    "\n",
    "#topdata[(topdata['key'] == 'ShiftY')].value\n",
    "pyplot.hist((topdata[(topdata['key'] == 'Width')&  (topdata[\"item\"] == 'Package Package') ].value), bins=5, edgecolor='black' )\n",
    "pyplot.title('Width')\n",
    "pyplot.ylabel('Histogram')\n",
    "pyplot.xlabel('Window width [Microns]');\n",
    "pyplot.axvline(x=2900,color='red')\n",
    "pyplot.axvline(x=3100,color='red')\n",
    "pyplot.axvline(x=(np.mean(topdata[(topdata['key'] == 'Width')&  (topdata[\"item\"] == 'Package Package') ].value)),color='gray')\n",
    "pyplot.xlim(2800, 3200);\n",
    "\n",
    "pyplot.show()"
   ]
  },
  {
   "cell_type": "code",
   "execution_count": 13,
   "metadata": {},
   "outputs": [
    {
     "name": "stdout",
     "output_type": "stream",
     "text": [
      "count    8707.000000\n",
      "mean     2987.490192\n",
      "std         8.286002\n",
      "min      2716.200000\n",
      "25%      2984.300000\n",
      "50%      2988.200000\n",
      "75%      2991.700000\n",
      "max      3015.600000\n",
      "Name: value, dtype: float64\n"
     ]
    },
    {
     "data": {
      "image/png": "[encoded data removed]",
      "text/plain": [
       "<Figure size 432x288 with 1 Axes>"
      ]
     },
     "metadata": {
      "needs_background": "light"
     },
     "output_type": "display_data"
    }
   ],
   "source": [
    "\n",
    "topdata[(topdata['inspection'] == 'PackageLocate')   &  (topdata[\"item\"] == 'Package Package') ]\n",
    "print(topdata[(topdata['key'] == 'Length')&  (topdata[\"item\"] == 'Package Package') ].value.describe())\n",
    "\n",
    "detect_outliers(topdata[(topdata['key'] == 'Length')&  (topdata[\"item\"] == 'Package Package') ].value)\n",
    "\n",
    "#topdata[(topdata['key'] == 'ShiftY')].value\n",
    "pyplot.hist((topdata[(topdata['key'] == 'Length')&  (topdata[\"item\"] == 'Package Package') ].value), bins=15, edgecolor='black' )\n",
    "pyplot.title('Length')\n",
    "pyplot.ylabel('Histogram')\n",
    "pyplot.xlabel('Window width [Microns]');\n",
    "pyplot.axvline(x=2900,color='red')\n",
    "pyplot.axvline(x=3100,color='red')\n",
    "pyplot.axvline(x=(np.mean(topdata[(topdata['key'] == 'Length')&  (topdata[\"item\"] == 'Package Package') ].value)),color='gray')\n",
    "pyplot.xlim(2800, 3200);\n",
    "\n",
    "pyplot.show()"
   ]
  }
 ],
 "metadata": {
  "kernelspec": {
   "display_name": "Python 3",
   "language": "python",
   "name": "python3"
  },
  "language_info": {
   "codemirror_mode": {
    "name": "ipython",
    "version": 3
   },
   "file_extension": ".py",
   "mimetype": "text/x-python",
   "name": "python",
   "nbconvert_exporter": "python",
   "pygments_lexer": "ipython3",
   "version": "3.7.3"
  }
 },
 "nbformat": 4,
 "nbformat_minor": 2
}
