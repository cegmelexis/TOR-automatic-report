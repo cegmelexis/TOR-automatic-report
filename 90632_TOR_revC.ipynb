{
 "cells": [
  {
   "cell_type": "markdown",
   "metadata": {},
   "source": [
    "# MLX90632 TOR  REPORT"
   ]
  },
  {
   "cell_type": "markdown",
   "metadata": {},
   "source": [
    "General template info\n",
    "Authors: CEG\n",
    "\n",
    "Release: B, July ,2020 <br>\n",
    "Release: C, July ,2020 update for automation\n",
    "\n",
    "Template purpose\n",
    "This file performs the postcalculation of the TOR data .  It shows the device parameter information vs specifications and lists a go or no-go statement according to the agreed quality norms. \n",
    "\n",
    "Revisions will be updated in the heading."
   ]
  },
  {
   "cell_type": "code",
   "execution_count": null,
   "metadata": {},
   "outputs": [],
   "source": [
    "#CEG:  General import statements\n",
    "%reset -f\n",
    "\n",
    "import warnings\n",
    "warnings.simplefilter('ignore')\n",
    "import numpy as np\n",
    "import pandas as pd\n",
    "%matplotlib inline\n",
    "from matplotlib import pyplot\n",
    "from matplotlib import cm\n",
    "from matplotlib.offsetbox import AnchoredText\n",
    "import tkinter as tk\n",
    "from tkinter import filedialog\n",
    "import seaborn as sns # set plot style\n",
    "import probscale\n",
    "import datetime\n",
    "import time\n",
    "clear_bkgd = {'axes.facecolor':'none', 'figure.facecolor':'none'}\n",
    "sns.set(style='ticks', context='talk', color_codes=True, rc=clear_bkgd)\n"
   ]
  },
  {
   "cell_type": "code",
   "execution_count": null,
   "metadata": {
    "scrolled": false
   },
   "outputs": [],
   "source": [
    "# update to read TOR data from instuction file\n",
    "inputdata = pd.read_csv('TORnbinstrfile.csv', sep=',', na_values=['', \"?\"])\n",
    "datafile=inputdata['Filename'].values[0]\n",
    "# datafile='1TD15569X1X1X2X1_Station1 Top_dm.csv'\n",
    "\n",
    "#CEG:  TOR Data\n",
    "topdata = pd.read_csv(datafile, sep=',', na_values=['', \"?\"], low_memory=False)\n",
    "# topdata.head(3)\n"
   ]
  },
  {
   "cell_type": "markdown",
   "metadata": {},
   "source": [
    "# Lot information"
   ]
  },
  {
   "cell_type": "code",
   "execution_count": null,
   "metadata": {},
   "outputs": [],
   "source": [
    "outliers = []\n",
    "def detect_outliers(data):\n",
    "    \n",
    "    treshhold=8\n",
    "    mean=np.mean(data)\n",
    "    std=np.std(data)\n",
    "    for i in data:\n",
    "        z_score=(i - mean)/std\n",
    "        if np.abs(z_score)<treshhold:\n",
    "            outliers.append(i)\n",
    "    return outliers"
   ]
  },
  {
   "cell_type": "markdown",
   "metadata": {},
   "source": [
    "   #                                                Top inspection"
   ]
  },
  {
   "cell_type": "code",
   "execution_count": null,
   "metadata": {},
   "outputs": [],
   "source": [
    "\n",
    "    #Yield statistic\n",
    "\n",
    "now = datetime.datetime.today().strftime('%Y-%m-%d')\n",
    "when=time.strftime('%H:%M:%S')\n",
    "\n",
    "insp_parts= topdata.partid.nunique()\n",
    "topdata[(topdata[\"result\"] != 'Pass')]\n",
    "failed=topdata[(topdata[\"result\"] != 'Pass')].partid.nunique()\n",
    "failednum=topdata[(topdata[\"result\"] != 'Pass')].measurand_group_name.unique()\n",
    "fail1=topdata[(topdata[\"result\"] != 'Pass')].measurand_group_name.str.count(failednum[0]).sum()\n",
    "fail2=topdata[(topdata[\"result\"] != 'Pass')].measurand_group_name.str.count(failednum[1]).sum()\n",
    "fail3=topdata[(topdata[\"result\"] != 'Pass')].measurand_group_name.str.count(failednum[2]).sum()\n",
    "fail4=topdata[(topdata[\"result\"] != 'Pass')].measurand_group_name.str.count(failednum[3]).sum()\n",
    "fail5=topdata[(topdata[\"result\"] != 'Pass')].measurand_group_name.str.count(failednum[4]).sum()\n",
    "fail6=topdata[(topdata[\"result\"] != 'Pass')].measurand_group_name.str.count(failednum[5]).sum()\n",
    "fails={ \n",
    "        failednum[0] : [fail1]\n",
    "       ,failednum[1] : [fail2]\n",
    "       ,failednum[2] : [fail3]\n",
    "       ,failednum[3] : [fail4]\n",
    "       ,failednum[4] : [fail5]\n",
    "       ,failednum[5] : [fail6]\n",
    "}\n",
    "\n",
    "print('Report for lot ' + topdata.lot[1] )\n",
    "print('Data generated : '+ now +', '+ when)\n",
    "print('Data runned : ' + str (topdata.date_created[1]))\n",
    "print( \"                                                                                 \")\n",
    "print( \"                                                                                 \")\n",
    "\n",
    "print('Inspected parts = ' +  str(insp_parts ) )\n",
    "print('Fails = ' +  str(failed ) )\n",
    "\n",
    "yieldstat= ((insp_parts-failed)/ (insp_parts+failed))*100\n",
    "print('Top inspection yeld = '  + str(yieldstat)[0:5])\n",
    "\n",
    "\n",
    "\n",
    "print( \"                                                                                 \")\n",
    "print( \"                                                                                 \")\n",
    "\n",
    "df = pd.DataFrame(fails)\n",
    "display(df)\n",
    "df.plot(kind=\"bar\", figsize=(15,10));\n",
    "pyplot.title(\"Fails\")\n",
    "pyplot.xlabel(\"Fails\")\n",
    "pyplot.ylabel(\"Quantity\")"
   ]
  },
  {
   "cell_type": "markdown",
   "metadata": {},
   "source": [
    "Lens diameter\n",
    "![](img/lens_diameter.png)"
   ]
  },
  {
   "cell_type": "code",
   "execution_count": null,
   "metadata": {
    "scrolled": false
   },
   "outputs": [],
   "source": [
    "#Lens Diameter\n",
    "\n",
    "topdata[(topdata['inspection'] == 'LensesLocate')   &  (topdata[\"item\"] == 'Contact Ball A1') | (topdata[\"item\"] == 'Contact Ball B1') | (topdata[\"item\"] == 'Contact Ball B2') | (topdata[\"item\"] == 'Contact Ball A4')  ]\n",
    "print(topdata[(topdata['key'] == 'Diameter')].value.describe())\n",
    "\n",
    "#topdata[(topdata['key'] == 'Diameter')].value\n",
    "#detect_outliers(topdata.value)\n",
    "#topdata[(topdata['key'] == 'Diameter')].value\n",
    "bins= [330,340,345,350,355,360, 365,370,380 ]\n",
    "#pyplot.hist(tordata[(tordata['key'] == 'Diameter')].value, bins=bins, edgecolor='black' )\n",
    "pyplot.hist(detect_outliers(topdata[(topdata['key'] == 'Diameter')].value), bins=10, edgecolor='black')\n",
    "pyplot.title('Lens diameter')\n",
    "pyplot.ylabel('Histogram')\n",
    "pyplot.xlabel('Diameter [Microns]');\n",
    "pyplot.axvline(x=340,color='red')\n",
    "pyplot.axvline(x=380,color='red')\n",
    "pyplot.axvline(x=(np.mean((topdata[(topdata['key'] == 'Diameter')].value))),color='gray')\n",
    "pyplot.show()\n"
   ]
  },
  {
   "cell_type": "markdown",
   "metadata": {},
   "source": [
    "Lens shift\n",
    "![](img/lens_shift.png)"
   ]
  },
  {
   "cell_type": "code",
   "execution_count": null,
   "metadata": {},
   "outputs": [],
   "source": [
    "\n",
    "topdata[(topdata['inspection'] == 'LensesLocate')   &  (topdata[\"item\"] == 'HeatSink HS1') ]\n",
    "print(topdata[(topdata['key'] == 'ShiftX')].value.describe())\n",
    "\n",
    "mean=np.mean(detect_outliers(topdata[(topdata['key'] == 'ShiftX')].value))\n",
    "\n",
    "topdata[(topdata['key'] == 'ShiftX')].value\n",
    "pyplot.hist((topdata[(topdata['key'] == 'ShiftX')].value), bins=15, edgecolor='black',  )\n",
    "pyplot.title('Shift X')\n",
    "pyplot.ylabel('Histogram')\n",
    "pyplot.xlabel('Shift from package model [Microns]');\n",
    "pyplot.axvline(x=-75,color='red')\n",
    "pyplot.axvline(x=75,color='red')\n",
    "pyplot.axvline(x=(np.mean((topdata[(topdata['key'] == 'ShiftX')].value))),color='gray')\n",
    "pyplot.xlim(-100, 100);\n",
    "pyplot.show()"
   ]
  },
  {
   "cell_type": "code",
   "execution_count": null,
   "metadata": {},
   "outputs": [],
   "source": [
    "\n",
    "topdata[(topdata['inspection'] == 'LensesLocate')   &  (topdata[\"item\"] == 'HeatSink HS1') ]\n",
    "print(topdata[(topdata['key'] == 'ShiftY')].value.describe())\n",
    "\n",
    "detect_outliers(topdata[(topdata['key'] == 'ShiftY')].value)\n",
    "\n",
    "#topdata[(topdata['key'] == 'ShiftY')].value\n",
    "pyplot.hist((topdata[(topdata['key'] == 'ShiftY')].value), bins=15, edgecolor='black' )\n",
    "pyplot.title('Shift Y')\n",
    "pyplot.ylabel('Histogram')\n",
    "pyplot.xlabel('Shift from package model [Microns]');\n",
    "pyplot.axvline(x=-75,color='red')\n",
    "pyplot.axvline(x=75,color='red')\n",
    "pyplot.axvline(x=(np.mean(topdata[(topdata['key'] == 'ShiftY')].value)),color='gray')\n",
    "pyplot.xlim(-100, 100);\n",
    "\n",
    "pyplot.show()"
   ]
  },
  {
   "cell_type": "markdown",
   "metadata": {},
   "source": [
    "Window dimentions\n",
    "![](img/window.png)"
   ]
  },
  {
   "cell_type": "code",
   "execution_count": null,
   "metadata": {},
   "outputs": [],
   "source": [
    "\n",
    "topdata[(topdata['inspection'] == 'LensesLocate')   &  (topdata[\"item\"] == 'HeatSink HS1') ]\n",
    "print(topdata[(topdata['key'] == 'Width')&  (topdata[\"item\"] == 'HeatSink HS1') ].value.describe())\n",
    "\n",
    "detect_outliers(topdata[(topdata['key'] == 'Width')&  (topdata[\"item\"] == 'HeatSink HS1') ].value)\n",
    "\n",
    "#topdata[(topdata['key'] == 'ShiftY')].value\n",
    "pyplot.hist((topdata[(topdata['key'] == 'Width')&  (topdata[\"item\"] == 'HeatSink HS1') ].value), bins=15, edgecolor='black' )\n",
    "pyplot.title('Width')\n",
    "pyplot.ylabel('Histogram')\n",
    "pyplot.xlabel('Window width [Microns]');\n",
    "pyplot.axvline(x=1810,color='red')\n",
    "pyplot.axvline(x=2210,color='red')\n",
    "pyplot.axvline(x=(np.mean(topdata[(topdata['key'] == 'Width')&  (topdata[\"item\"] == 'HeatSink HS1') ].value)),color='gray')\n",
    "pyplot.xlim(1700, 2300);\n",
    "\n",
    "pyplot.show()"
   ]
  },
  {
   "cell_type": "code",
   "execution_count": null,
   "metadata": {},
   "outputs": [],
   "source": [
    "topdata[(topdata['inspection'] == 'LensesLocate')   &  (topdata[\"item\"] == 'HeatSink HS1') ]\n",
    "print(topdata[(topdata['key'] == 'Length')&  (topdata[\"item\"] == 'HeatSink HS1') ].value.describe())\n",
    "\n",
    "detect_outliers(topdata[(topdata['key'] == 'Length')&  (topdata[\"item\"] == 'HeatSink HS1') ].value)\n",
    "\n",
    "#topdata[(topdata['key'] == 'ShiftY')].value\n",
    "pyplot.hist((topdata[(topdata['key'] == 'Length')&  (topdata[\"item\"] == 'HeatSink HS1') ].value), bins=15, edgecolor='black' )\n",
    "pyplot.title('Length')\n",
    "pyplot.ylabel('Histogram')\n",
    "pyplot.xlabel('Length length [Microns]');\n",
    "pyplot.axvline(x=1300,color='red')\n",
    "pyplot.axvline(x=1500,color='red')\n",
    "pyplot.axvline(x=(np.mean(topdata[(topdata['key'] == 'Length')&  (topdata[\"item\"] == 'HeatSink HS1') ].value)),color='gray')\n",
    "pyplot.xlim(1200, 1600);\n",
    "\n",
    "pyplot.show()"
   ]
  },
  {
   "cell_type": "markdown",
   "metadata": {},
   "source": [
    "# 5s inspection\n"
   ]
  },
  {
   "cell_type": "markdown",
   "metadata": {},
   "source": [
    "Package dimentions\n",
    "![](img/package_dimentions.png)"
   ]
  },
  {
   "cell_type": "code",
   "execution_count": null,
   "metadata": {},
   "outputs": [],
   "source": [
    "\n",
    "topdata[(topdata['inspection'] == 'PackageLocate')   &  (topdata[\"item\"] == 'Package Package') ]\n",
    "print(topdata[(topdata['key'] == 'Width')&  (topdata[\"item\"] == 'Package Package') ].value.describe())\n",
    "\n",
    "detect_outliers(topdata[(topdata['key'] == 'Width')&  (topdata[\"item\"] == 'Package Package') ].value)\n",
    "\n",
    "#topdata[(topdata['key'] == 'ShiftY')].value\n",
    "pyplot.hist((topdata[(topdata['key'] == 'Width')&  (topdata[\"item\"] == 'Package Package') ].value), bins=15, edgecolor='black' )\n",
    "pyplot.title('Width')\n",
    "pyplot.ylabel('Histogram')\n",
    "pyplot.xlabel('Window width [Microns]');\n",
    "pyplot.axvline(x=2900,color='red')\n",
    "pyplot.axvline(x=3100,color='red')\n",
    "pyplot.axvline(x=(np.mean(topdata[(topdata['key'] == 'Width')&  (topdata[\"item\"] == 'Package Package') ].value)),color='gray')\n",
    "pyplot.xlim(2800, 3200);\n",
    "\n",
    "pyplot.show()"
   ]
  },
  {
   "cell_type": "code",
   "execution_count": null,
   "metadata": {
    "scrolled": false
   },
   "outputs": [],
   "source": [
    "\n",
    "topdata[(topdata['inspection'] == 'PackageLocate')   &  (topdata[\"item\"] == 'Package Package') ]\n",
    "print(topdata[(topdata['key'] == 'Length')&  (topdata[\"item\"] == 'Package Package') ].value.describe())\n",
    "\n",
    "detect_outliers(topdata[(topdata['key'] == 'Length')&  (topdata[\"item\"] == 'Package Package') ].value)\n",
    "\n",
    "#topdata[(topdata['key'] == 'ShiftY')].value\n",
    "pyplot.hist((topdata[(topdata['key'] == 'Length')&  (topdata[\"item\"] == 'Package Package') ].value), bins=5, edgecolor='black' )\n",
    "pyplot.title('Length')\n",
    "pyplot.ylabel('Histogram')\n",
    "pyplot.xlabel('Window width [Microns]');\n",
    "pyplot.axvline(x=2900,color='red')\n",
    "pyplot.axvline(x=3100,color='red')\n",
    "pyplot.axvline(x=(np.mean(topdata[(topdata['key'] == 'Length')&  (topdata[\"item\"] == 'Package Package') ].value)),color='gray')\n",
    "pyplot.xlim(2800, 3200);\n",
    "\n",
    "pyplot.show()"
   ]
  },
  {
   "cell_type": "code",
   "execution_count": null,
   "metadata": {},
   "outputs": [],
   "source": [
    "# outputstring='1TD15569X1X1X2X1_Station1'\n",
    "# !jupyter nbconvert TOR.ipynb --execute --TemplateExporter.exclude_input=True --output=$outputstring\n"
   ]
  },
  {
   "cell_type": "code",
   "execution_count": null,
   "metadata": {},
   "outputs": [],
   "source": []
  }
 ],
 "metadata": {
  "kernelspec": {
   "display_name": "Python 3",
   "language": "python",
   "name": "python3"
  },
  "language_info": {
   "codemirror_mode": {
    "name": "ipython",
    "version": 3
   },
   "file_extension": ".py",
   "mimetype": "text/x-python",
   "name": "python",
   "nbconvert_exporter": "python",
   "pygments_lexer": "ipython3",
   "version": "3.7.3"
  }
 },
 "nbformat": 4,
 "nbformat_minor": 2
}
