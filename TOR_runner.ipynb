{
 "cells": [
  {
   "cell_type": "code",
   "execution_count": 1,
   "metadata": {},
   "outputs": [],
   "source": [
    "import numpy as np\n",
    "import pandas as pd"
   ]
  },
  {
   "cell_type": "code",
   "execution_count": 1,
   "metadata": {},
   "outputs": [
    {
     "name": "stderr",
     "output_type": "stream",
     "text": [
      "[NbConvertApp] Converting notebook Untitled.ipynb to html\n",
      "[NbConvertApp] Executing notebook with kernel: python3\n",
      "[NbConvertApp] Writing 427427 bytes to 1TD15569X1X1X2X1_Station1_report.html\n"
     ]
    }
   ],
   "source": [
    "outputstring='1TD15569X1X1X2X1_Station1_report'\n",
    "!jupyter nbconvert Untitled.ipynb --execute --TemplateExporter.exclude_input=True --output=$outputstring\n",
    "#typeofreport='MEDICAL'  # MEDICAL or CONSUMER\n",
    "\n",
    "#if typeofreport=='MEDICAL':     \n",
    "    #!jupyter nbconvert Untitled.ipynb --execute --TemplateExporter.exclude_input=True --output=$outputstring\n",
    "#if typeofreport=='CONSUMER':     \n",
    "    #!jupyter nbconvert QCout_report_revC_QCout_CONSUMER.ipynb --execute --TemplateExporter.exclude_input=True --output=$outputstring"
   ]
  },
  {
   "cell_type": "code",
   "execution_count": null,
   "metadata": {},
   "outputs": [],
   "source": []
  }
 ],
 "metadata": {
  "kernelspec": {
   "display_name": "Python 3",
   "language": "python",
   "name": "python3"
  },
  "language_info": {
   "codemirror_mode": {
    "name": "ipython",
    "version": 3
   },
   "file_extension": ".py",
   "mimetype": "text/x-python",
   "name": "python",
   "nbconvert_exporter": "python",
   "pygments_lexer": "ipython3",
   "version": "3.7.3"
  }
 },
 "nbformat": 4,
 "nbformat_minor": 2
}
