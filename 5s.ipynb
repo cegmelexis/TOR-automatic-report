{
 "cells": [
  {
   "cell_type": "markdown",
   "metadata": {},
   "source": [
    "# MLX90632 TOR  REPORT"
   ]
  },
  {
   "cell_type": "markdown",
   "metadata": {},
   "source": [
    "General template info\n",
    "Authors: CEG\n",
    "\n",
    "Release: B, July ,2020\n",
    "\n",
    "Template purpose\n",
    "This file performs the postcalculation of the TOR data .  It shows the device parameter informatiron vs specifications and lists a go or not go statement according to the agreed quality norms. \n",
    "\n",
    "Revisions will be updated in the heading."
   ]
  },
  {
   "cell_type": "code",
   "execution_count": null,
   "metadata": {},
   "outputs": [],
   "source": [
    "#CEG:  General import statements\n",
    "%reset -f\n",
    "\n",
    "import os\n",
    "import glob\n",
    "import warnings\n",
    "warnings.simplefilter('ignore')\n",
    "import numpy as np\n",
    "import pandas as pd\n",
    "%matplotlib inline\n",
    "from matplotlib import pyplot\n",
    "from matplotlib import cm\n",
    "from matplotlib.offsetbox import AnchoredText\n",
    "import tkinter as tk\n",
    "from tkinter import filedialog\n",
    "import seaborn as sns # set plot style\n",
    "import probscale\n",
    "import datetime\n",
    "import time\n",
    "import json\n",
    "clear_bkgd = {'axes.facecolor':'none', 'figure.facecolor':'none'}\n",
    "sns.set(style='ticks', context='talk', color_codes=True, rc=clear_bkgd)\n"
   ]
  },
  {
   "cell_type": "code",
   "execution_count": null,
   "metadata": {},
   "outputs": [],
   "source": [
    "os.chdir(\"\\\\Users\\ceg\\Documents\\projects\\90632\\TOR\\Automatic report\\TOR-automatic-report-\\data\")\n",
    "extension = 'csv'\n",
    "all_filenames = [i for i in glob.glob('*.{}'.format(extension))]\n",
    "#combine all files in the list\n",
    "combined_csv = pd.concat([pd.read_csv(f) for f in all_filenames ])\n",
    "#export to csv\n",
    "combined_csv.to_csv( \"combined_csv.csv\", index=False, encoding='utf-8-sig')"
   ]
  },
  {
   "cell_type": "code",
   "execution_count": null,
   "metadata": {},
   "outputs": [],
   "source": [
    "#inputdata = pd.read_csv('tordata', sep=',', na_values=['', \"?\"])\n",
    "\n",
    "datafile='combined_csv.csv'\n",
    "#datafile1='1TD18764X2X3_Station1 Top_dm.csv'#inputdata['Datafile'].values[0]\n",
    "#data_cols = ['station', 'inspection', 'recipe', 'lot', 'partid', 'key', 'value', 'result', 'unit', 'date_created', 'position', 'scanid', 'mintolerance', 'maxtolerance', 'toleranceusage', 'item', 'recipeid','pad_partid','pad_item','measurand_group_name', 'station_unique_id','inspectionstep','basicitemkey']\n",
    "\n",
    "#CEG:  TOR Data\n",
    "topdata = pd.read_csv(datafile, sep=',', na_values=['', \"?\"],  )\n",
    "#sdata = pd.read_csv(datafile1, sep=',', na_values=['', \"?\"],  )\n",
    "topdata.head(3)"
   ]
  },
  {
   "cell_type": "code",
   "execution_count": null,
   "metadata": {
    "tags": []
   },
   "outputs": [],
   "source": [
    "\n",
    "    #Yield statistic\n",
    "\n",
    "now = datetime.datetime.today().strftime('%Y-%m-%d')\n",
    "when=time.strftime('%H:%M:%S')\n",
    "\n",
    "insp_parts= len(set(topdata.partid))\n",
    "topdata[(topdata[\"result\"] != 'Pass')]\n",
    "failed=topdata[(topdata[\"result\"] != 'Pass')].partid.nunique()\n",
    "failednum=topdata[(topdata[\"result\"] != 'Pass')].measurand_group_name.unique()\n",
    "\n"
   ]
  },
  {
   "cell_type": "code",
   "execution_count": null,
   "metadata": {
    "tags": []
   },
   "outputs": [],
   "source": [
    "fails={}\n",
    "\n",
    "for i in failednum :\n",
    "    fail=topdata[(topdata[\"result\"] != 'Pass')].measurand_group_name.str.count(i).sum()\n",
    "    fails.update({(i):(fail)})\n",
    "\n",
    "\n",
    "\n",
    "print('Inspection : ' + topdata.station[1])\n",
    "print( \"                                                                                 \")\n",
    "print( \"                                                                                 \")\n",
    "print('Report for lot ' + topdata.lot[1] )\n",
    "print('Data generated : '+ now +', '+ when)\n",
    "print('Data runned : ' + str (topdata.date_created[1]))\n",
    "print( \"                                                                                 \")\n",
    "print( \"                                                                                 \")\n",
    "\n",
    "print('Inspected parts = ' +  str(insp_parts ) )\n",
    "print('Fails = ' +  str(failed ) )\n",
    "\n",
    "yieldstat= (((insp_parts) - failed)/ (insp_parts + failed))*100\n",
    "print('Top inspection yeld = '  + str(yieldstat)[0:5])\n",
    "\n",
    "\n",
    "\n",
    "print( \"                                                                                 \")\n",
    "print( \"                                                                                 \")\n",
    "\n",
    "df = pd.DataFrame(fails, index=[0])\n",
    "print(df)\n",
    "df.plot(kind=\"bar\", figsize=(15,10));\n",
    "pyplot.title(\"Fails\")\n",
    "pyplot.xlabel(\"Fails\")\n",
    "pyplot.ylabel(\"Quantity\")\n",
    "\n",
    "\n"
   ]
  },
  {
   "cell_type": "code",
   "execution_count": null,
   "metadata": {
    "tags": []
   },
   "outputs": [],
   "source": [
    "failednum=topdata[(topdata[\"result\"] != 'Pass')].measurand_group_name.unique()\n",
    "\n",
    "num=()\n",
    "for ins in failednum :\n",
    "    num=topdata[(topdata[\"measurand_group_name\"] == ins)]\n",
    "    print(ins)\n",
    "    type(num)\n",
    "    print((num.value.describe()))\n",
    "    print( \"                                                                                 \")\n",
    "    pyplot.title(ins)\n",
    "    pyplot.ylabel('Histogram')\n",
    "    pyplot.xlabel(set(num.unit))\n",
    "    pyplot.axvline(x=min(num.mintolerance),color='red')\n",
    "    pyplot.axvline(x=max(num.maxtolerance),color='red')\n",
    "    pyplot.axvline(x=(np.mean(num.value)),color='gray')\n",
    "    pyplot.hist(num.value,bins=20)\n",
    "    pyplot.show()"
   ]
  },
  {
   "cell_type": "code",
   "execution_count": null,
   "metadata": {
    "tags": []
   },
   "outputs": [],
   "source": [
    "\n",
    "    \n"
   ]
  },
  {
   "cell_type": "code",
   "execution_count": null,
   "metadata": {},
   "outputs": [],
   "source": []
  }
 ],
 "metadata": {
  "kernelspec": {
   "display_name": "Python 3",
   "language": "python",
   "name": "python3"
  },
  "language_info": {
   "codemirror_mode": {
    "name": "ipython",
    "version": 3
   },
   "file_extension": ".py",
   "mimetype": "text/x-python",
   "name": "python",
   "nbconvert_exporter": "python",
   "pygments_lexer": "ipython3",
   "version": "3.7.3"
  }
 },
 "nbformat": 4,
 "nbformat_minor": 2
}
